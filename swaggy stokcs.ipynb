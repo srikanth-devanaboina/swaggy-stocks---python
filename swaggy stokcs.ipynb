{
 "cells": [
  {
   "cell_type": "markdown",
   "id": "01667d76",
   "metadata": {},
   "source": [
    "# Top Trending Tickers"
   ]
  },
  {
   "cell_type": "code",
   "execution_count": 6,
   "id": "454a5fdc",
   "metadata": {},
   "outputs": [],
   "source": [
    "import requests\n",
    "\n",
    "url = \"https://api.beta.swaggystocks.com/memeStocks/top-tickers\"\n",
    "response = requests.get(url)\n",
    "\n",
    "for i in response.json()['data']:\n",
    "    print(i)"
   ]
  },
  {
   "cell_type": "markdown",
   "id": "36b9dba6",
   "metadata": {},
   "source": [
    "# Ticker Info"
   ]
  },
  {
   "cell_type": "code",
   "execution_count": 7,
   "id": "61f5782d",
   "metadata": {},
   "outputs": [],
   "source": [
    "quote_info = requests.get(\"https://api.beta.swaggystocks.com/stocks/financial/MSFT/quote\")\n",
    "quote_info.json()"
   ]
  }
 ],
 "metadata": {
  "kernelspec": {
   "display_name": "Python 3 (ipykernel)",
   "language": "python",
   "name": "python3"
  },
  "language_info": {
   "codemirror_mode": {
    "name": "ipython",
    "version": 3
   },
   "file_extension": ".py",
   "mimetype": "text/x-python",
   "name": "python",
   "nbconvert_exporter": "python",
   "pygments_lexer": "ipython3",
   "version": "3.10.12"
  }
 },
 "nbformat": 4,
 "nbformat_minor": 5
}
